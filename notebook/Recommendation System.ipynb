{
 "cells": [
  {
   "cell_type": "markdown",
   "id": "be37bc3f",
   "metadata": {},
   "source": [
    "# introduction"
   ]
  },
  {
   "cell_type": "markdown",
   "id": "1914d6f5",
   "metadata": {},
   "source": [
    "In this project, we have developed a recommendation system for the Steam gaming platform. The goal of this system is to suggest games to users based on their preferences and game informations. To achieve this, we have utilized various data analysis techniques and feature engineering to create a model that can predict potential interests of users in different games. This notebook documents the steps taken after data preprocessing and all the way to model training and evaluation.\n"
   ]
  },
  {
   "cell_type": "markdown",
   "id": "d5cd48c0",
   "metadata": {},
   "source": [
    "# Data preparation"
   ]
  },
  {
   "cell_type": "markdown",
   "id": "cbf80191",
   "metadata": {},
   "source": [
    "## Library imports"
   ]
  },
  {
   "cell_type": "code",
   "execution_count": 83,
   "id": "4fa35bb6",
   "metadata": {},
   "outputs": [],
   "source": [
    "import numpy as np\n",
    "import pandas as pd\n",
    "from sklearn.pipeline import Pipeline, FeatureUnion\n",
    "from sklearn.base import BaseEstimator, TransformerMixin\n",
    "from sklearn.feature_extraction.text import TfidfVectorizer\n",
    "from sklearn.cluster import KMeans\n",
    "from sklearn.preprocessing import StandardScaler\n",
    "from sklearn.metrics.pairwise import cosine_similarity\n",
    "from datetime import datetime"
   ]
  },
  {
   "cell_type": "markdown",
   "id": "58adfef7",
   "metadata": {},
   "source": [
    "## Dataset imports"
   ]
  },
  {
   "cell_type": "markdown",
   "id": "541085fb",
   "metadata": {},
   "source": [
    "The dataset we are using for this part is the preprocessed datasets 'games_filtered.csv' and 'users_filtered.csv', which are cleaned and filtered datasets from previous work."
   ]
  },
  {
   "cell_type": "code",
   "execution_count": 84,
   "id": "c5d7a552",
   "metadata": {},
   "outputs": [],
   "source": [
    "# Import dataset\n",
    "games_df = pd.read_csv(\"../data/games_filtered.csv\")\n",
    "users_df = pd.read_csv(\"../data/users_filtered.csv\")"
   ]
  },
  {
   "cell_type": "markdown",
   "id": "76621008",
   "metadata": {},
   "source": [
    "## Data preprocessing"
   ]
  },
  {
   "cell_type": "markdown",
   "id": "8972250f",
   "metadata": {},
   "source": [
    "Select needed columns and further cleaning"
   ]
  },
  {
   "cell_type": "code",
   "execution_count": 85,
   "id": "fc0883e2",
   "metadata": {},
   "outputs": [],
   "source": [
    "# Set the 'Hours' for 'purchase' action to 0\n",
    "users_df['Hours'] = np.where(users_df['Action'] == 'purchase', 0, users_df['Hours'])\n",
    "\n",
    "# Select needed columns\n",
    "games_df.drop(['name', 'platforms','required_age'], axis=1, inplace=True)\n",
    "users_df.drop('Game_Name', axis=1, inplace=True)"
   ]
  },
  {
   "cell_type": "code",
   "execution_count": 86,
   "id": "9ea553fd",
   "metadata": {},
   "outputs": [
    {
     "data": {
      "text/html": [
       "<div>\n",
       "<style scoped>\n",
       "    .dataframe tbody tr th:only-of-type {\n",
       "        vertical-align: middle;\n",
       "    }\n",
       "\n",
       "    .dataframe tbody tr th {\n",
       "        vertical-align: top;\n",
       "    }\n",
       "\n",
       "    .dataframe thead th {\n",
       "        text-align: right;\n",
       "    }\n",
       "</style>\n",
       "<table border=\"1\" class=\"dataframe\">\n",
       "  <thead>\n",
       "    <tr style=\"text-align: right;\">\n",
       "      <th></th>\n",
       "      <th>appid</th>\n",
       "      <th>release_date</th>\n",
       "      <th>english</th>\n",
       "      <th>developer</th>\n",
       "      <th>publisher</th>\n",
       "      <th>categories</th>\n",
       "      <th>genres</th>\n",
       "      <th>steamspy_tags</th>\n",
       "      <th>achievements</th>\n",
       "      <th>positive_ratings</th>\n",
       "      <th>negative_ratings</th>\n",
       "      <th>average_playtime</th>\n",
       "      <th>median_playtime</th>\n",
       "      <th>owners</th>\n",
       "      <th>price</th>\n",
       "      <th>cleaned_title</th>\n",
       "    </tr>\n",
       "  </thead>\n",
       "  <tbody>\n",
       "    <tr>\n",
       "      <th>0</th>\n",
       "      <td>10</td>\n",
       "      <td>2000-11-01</td>\n",
       "      <td>1</td>\n",
       "      <td>Valve</td>\n",
       "      <td>Valve</td>\n",
       "      <td>Multi-player;Online Multi-Player;Local Multi-P...</td>\n",
       "      <td>Action</td>\n",
       "      <td>Action;FPS;Multiplayer</td>\n",
       "      <td>0</td>\n",
       "      <td>124534</td>\n",
       "      <td>3339</td>\n",
       "      <td>17612</td>\n",
       "      <td>317</td>\n",
       "      <td>10000000-20000000</td>\n",
       "      <td>7.19</td>\n",
       "      <td>counter strike</td>\n",
       "    </tr>\n",
       "    <tr>\n",
       "      <th>1</th>\n",
       "      <td>20</td>\n",
       "      <td>1999-04-01</td>\n",
       "      <td>1</td>\n",
       "      <td>Valve</td>\n",
       "      <td>Valve</td>\n",
       "      <td>Multi-player;Online Multi-Player;Local Multi-P...</td>\n",
       "      <td>Action</td>\n",
       "      <td>Action;FPS;Multiplayer</td>\n",
       "      <td>0</td>\n",
       "      <td>3318</td>\n",
       "      <td>633</td>\n",
       "      <td>277</td>\n",
       "      <td>62</td>\n",
       "      <td>5000000-10000000</td>\n",
       "      <td>3.99</td>\n",
       "      <td>team fortress classic</td>\n",
       "    </tr>\n",
       "    <tr>\n",
       "      <th>2</th>\n",
       "      <td>30</td>\n",
       "      <td>2003-05-01</td>\n",
       "      <td>1</td>\n",
       "      <td>Valve</td>\n",
       "      <td>Valve</td>\n",
       "      <td>Multi-player;Valve Anti-Cheat enabled</td>\n",
       "      <td>Action</td>\n",
       "      <td>FPS;World War II;Multiplayer</td>\n",
       "      <td>0</td>\n",
       "      <td>3416</td>\n",
       "      <td>398</td>\n",
       "      <td>187</td>\n",
       "      <td>34</td>\n",
       "      <td>5000000-10000000</td>\n",
       "      <td>3.99</td>\n",
       "      <td>day of defeat</td>\n",
       "    </tr>\n",
       "  </tbody>\n",
       "</table>\n",
       "</div>"
      ],
      "text/plain": [
       "   appid release_date  english developer publisher  \\\n",
       "0     10   2000-11-01        1     Valve     Valve   \n",
       "1     20   1999-04-01        1     Valve     Valve   \n",
       "2     30   2003-05-01        1     Valve     Valve   \n",
       "\n",
       "                                          categories  genres  \\\n",
       "0  Multi-player;Online Multi-Player;Local Multi-P...  Action   \n",
       "1  Multi-player;Online Multi-Player;Local Multi-P...  Action   \n",
       "2              Multi-player;Valve Anti-Cheat enabled  Action   \n",
       "\n",
       "                  steamspy_tags  achievements  positive_ratings  \\\n",
       "0        Action;FPS;Multiplayer             0            124534   \n",
       "1        Action;FPS;Multiplayer             0              3318   \n",
       "2  FPS;World War II;Multiplayer             0              3416   \n",
       "\n",
       "   negative_ratings  average_playtime  median_playtime             owners  \\\n",
       "0              3339             17612              317  10000000-20000000   \n",
       "1               633               277               62   5000000-10000000   \n",
       "2               398               187               34   5000000-10000000   \n",
       "\n",
       "   price          cleaned_title  \n",
       "0   7.19         counter strike  \n",
       "1   3.99  team fortress classic  \n",
       "2   3.99          day of defeat  "
      ]
     },
     "execution_count": 86,
     "metadata": {},
     "output_type": "execute_result"
    }
   ],
   "source": [
    "games_df.head(3)"
   ]
  },
  {
   "cell_type": "code",
   "execution_count": 87,
   "id": "c0327702",
   "metadata": {},
   "outputs": [
    {
     "data": {
      "text/html": [
       "<div>\n",
       "<style scoped>\n",
       "    .dataframe tbody tr th:only-of-type {\n",
       "        vertical-align: middle;\n",
       "    }\n",
       "\n",
       "    .dataframe tbody tr th {\n",
       "        vertical-align: top;\n",
       "    }\n",
       "\n",
       "    .dataframe thead th {\n",
       "        text-align: right;\n",
       "    }\n",
       "</style>\n",
       "<table border=\"1\" class=\"dataframe\">\n",
       "  <thead>\n",
       "    <tr style=\"text-align: right;\">\n",
       "      <th></th>\n",
       "      <th>User_ID</th>\n",
       "      <th>Action</th>\n",
       "      <th>Hours</th>\n",
       "      <th>cleaned_game_title</th>\n",
       "    </tr>\n",
       "  </thead>\n",
       "  <tbody>\n",
       "    <tr>\n",
       "      <th>0</th>\n",
       "      <td>151603712</td>\n",
       "      <td>purchase</td>\n",
       "      <td>0.0</td>\n",
       "      <td>fallout 4</td>\n",
       "    </tr>\n",
       "    <tr>\n",
       "      <th>1</th>\n",
       "      <td>151603712</td>\n",
       "      <td>play</td>\n",
       "      <td>87.0</td>\n",
       "      <td>fallout 4</td>\n",
       "    </tr>\n",
       "    <tr>\n",
       "      <th>2</th>\n",
       "      <td>151603712</td>\n",
       "      <td>purchase</td>\n",
       "      <td>0.0</td>\n",
       "      <td>spore</td>\n",
       "    </tr>\n",
       "  </tbody>\n",
       "</table>\n",
       "</div>"
      ],
      "text/plain": [
       "     User_ID    Action  Hours cleaned_game_title\n",
       "0  151603712  purchase    0.0          fallout 4\n",
       "1  151603712      play   87.0          fallout 4\n",
       "2  151603712  purchase    0.0              spore"
      ]
     },
     "execution_count": 87,
     "metadata": {},
     "output_type": "execute_result"
    }
   ],
   "source": [
    "users_df.head(3)"
   ]
  },
  {
   "cell_type": "markdown",
   "id": "bb9570c0",
   "metadata": {},
   "source": [
    "Now **'users_df'** contains each users' information for purchase and play hours for every game they had.  \n",
    "For **'games_df'**, details are as follows:  \n",
    "**appid:** The unique identifier for each game on the Steam platform.  \n",
    "**release_date:** The date when the game was released.  \n",
    "**english:** A binary indicator (e.g., 1 for English, 0 for other languages) indicating whether the game is available in English.  \n",
    "**categories:** Categories associated with the game.  \n",
    "**genres:** The genre of the game.  \n",
    "**steamspy_tags:** Tags or keywords associated with the game.  \n",
    "**achievements:** The number of in-game achievements available in the game.  \n",
    "**positive_ratings:** The number of positive ratings or reviews given by players.  \n",
    "**negative_ratings:** The number of negative ratings or reviews given by players.  \n",
    "**average_playtime:** The average playtime in minutes for players of the game.  \n",
    "**median_playtime:** The median playtime in minutes for players of the game.  \n",
    "**owners:** The estimated number of game owners (users who have purchased or obtained the game).  \n",
    "**price:** The price of the game.  \n",
    "**cleaned_title:** The title of the game after cleaning.  "
   ]
  },
  {
   "cell_type": "markdown",
   "id": "f14e2989",
   "metadata": {},
   "source": [
    "# Feature engineering"
   ]
  },
  {
   "cell_type": "markdown",
   "id": "9f575ed1",
   "metadata": {},
   "source": [
    "Feature engineering is a fundamental step in the machine learning pipeline, where we transform raw data into features that better represent the underlying problem to the predictive models, resulting in improved model accuracy on unseen data. In this recommendation system, we're specifically focusing on features that are indicative of user preferences and game qualities.\n"
   ]
  },
  {
   "cell_type": "markdown",
   "id": "6edce76e",
   "metadata": {},
   "source": [
    "## Feature Transformation Pipeline"
   ]
  },
  {
   "cell_type": "markdown",
   "id": "64763709",
   "metadata": {},
   "source": [
    "### Text Features: Categories, Genres, and Tags\n",
    "For each game, descriptive text data such as categories, genres, and tags provide a rich set of information about the game's content and style. However, this textual information is not immediately usable by machine learning algorithms, which require numerical input. To convert this text into a numerical format, we employ a `TfidfVectorizer`. This method transforms the text into a matrix of TF-IDF features, which capture the importance of words in relation to the documents in which they appear.\n",
    "\n",
    "### User Ratings\n",
    "User ratings are a direct indication of a game's reception by its players. We create a feature that reflects the ratio of positive ratings to total ratings, offering a normalized metric that can be used to gauge overall user satisfaction.\n",
    "\n",
    "### Playtime\n",
    "The amount of time users spend playing a game is a good indicator of engagement and enjoyment. We normalize the average and median playtime to ensure that these features are scaled appropriately for our algorithms.\n",
    "\n",
    "### Ownership\n",
    "The number of users who own a game can provide insights into its popularity and accessibility. We calculate the average number of owners from\n",
    "\n",
    "### Days Since Release\n",
    "How long after the game released. Which can be a useful feature for the games popularity."
   ]
  },
  {
   "cell_type": "code",
   "execution_count": 88,
   "id": "38364f46",
   "metadata": {},
   "outputs": [],
   "source": [
    "# Transformer for text features\n",
    "class CategoriesGenresTagsTransformer(BaseEstimator, TransformerMixin):\n",
    "    def __init__(self):\n",
    "        self.vectorizer = TfidfVectorizer(stop_words='english')\n",
    "        \n",
    "    def fit(self, X, y=None):\n",
    "        combined_text = X['categories'] + \" \" + X['genres'] + \" \" + X['steamspy_tags']\n",
    "        self.vectorizer.fit(combined_text)\n",
    "        return self\n",
    "    \n",
    "    def transform(self, X):\n",
    "        combined_text = X['categories'] + \" \" + X['genres'] + \" \" + X['steamspy_tags']\n",
    "        return self.vectorizer.transform(combined_text).toarray()\n",
    "\n",
    "# Transformer for ratings\n",
    "class RatingsTransformer(BaseEstimator, TransformerMixin):\n",
    "    def fit(self, X, y=None):\n",
    "        return self\n",
    "    \n",
    "    def transform(self, X):\n",
    "        total_ratings = X['positive_ratings'] + X['negative_ratings']\n",
    "        rating_ratio = X['positive_ratings'] / total_ratings\n",
    "        return rating_ratio.values.reshape(-1, 1)\n",
    "\n",
    "# Transformer for playtime\n",
    "class PlaytimeTransformer(BaseEstimator, TransformerMixin):\n",
    "    def fit(self, X, y=None):\n",
    "        self.average_playtime_max = X['average_playtime'].max()\n",
    "        self.median_playtime_max = X['median_playtime'].max()\n",
    "        return self\n",
    "    \n",
    "    def transform(self, X):\n",
    "        normalized_average_playtime = X['average_playtime'] / self.average_playtime_max\n",
    "        normalized_median_playtime = X['median_playtime'] / self.median_playtime_max\n",
    "        return pd.concat([normalized_average_playtime, normalized_median_playtime], axis=1).values\n",
    "\n",
    "# Transformer for ownership\n",
    "class OwnersTransformer(BaseEstimator, TransformerMixin):\n",
    "    def fit(self, X, y=None):\n",
    "        return self\n",
    "    \n",
    "    def transform(self, X):\n",
    "        owners_processed = X['owners'].str.split('-').apply(lambda x: (int(x[0]) + int(x[1])) / 2)\n",
    "        return owners_processed.values.reshape(-1, 1)\n",
    "\n",
    "# Transformer for how long the game released\n",
    "class DaysSinceReleaseTransformer(BaseEstimator, TransformerMixin):\n",
    "    def fit(self, X, y=None):\n",
    "        return self\n",
    "    \n",
    "    def transform(self, X):\n",
    "        now = datetime.now()\n",
    "        days_since_release = X['release_date'].apply(lambda x: (now - datetime.strptime(x, '%Y-%m-%d')).days)\n",
    "        return days_since_release.values.reshape(-1, 1)"
   ]
  },
  {
   "cell_type": "markdown",
   "id": "010e6809",
   "metadata": {},
   "source": [
    "### Combine feature transformer"
   ]
  },
  {
   "cell_type": "markdown",
   "id": "01cd582e",
   "metadata": {},
   "source": [
    "The feature transformation pipeline is a critical component of our system. By using `FeatureUnion`, we can combine multiple feature-processing steps into a single transformer object that can be applied to the dataset. This approach not only simplifies the code but also ensures that all features are processed in a consistent manner. The pipeline includes our custom transformers, each handling a different aspect of the game data to create a comprehensive feature set for the recommendation model.\n"
   ]
  },
  {
   "cell_type": "code",
   "execution_count": 89,
   "id": "1fed29dc",
   "metadata": {},
   "outputs": [],
   "source": [
    "# Combined Feature Transformer\n",
    "feature_transformer = FeatureUnion([\n",
    "    ('categories_genres_tags', CategoriesGenresTagsTransformer()),\n",
    "    ('ratings', RatingsTransformer()),\n",
    "    ('playtime', PlaytimeTransformer()),\n",
    "    ('owners', OwnersTransformer()),\n",
    "    ('days_since_release', DaysSinceReleaseTransformer())\n",
    "])"
   ]
  },
  {
   "cell_type": "markdown",
   "id": "2324bf56",
   "metadata": {},
   "source": [
    "# Model Training"
   ]
  },
  {
   "cell_type": "markdown",
   "id": "34a42755",
   "metadata": {},
   "source": [
    "With our features engineered and ready, the model training process is divided into two parts: clustering users based on their gaming preferences and building a recommendation model for suggesting new games.\n",
    "\n",
    "## Clustering User Data\n",
    "\n",
    "The user data is analyzed to determine patterns in gaming preferences. This is achieved through clustering, where we aim to group users with similar behaviors:\n",
    "\n",
    "- We use the K-Means algorithm, which is effective for grouping data into distinct clusters based on feature similarity.\n",
    "- Standardization of user data is crucial here as it ensures that each feature contributes equally to the distance computations during clustering.\n",
    "- The number of clusters is selected based on exploratory data analysis or domain knowledge. It dictates how many distinct user groups we expect to find.\n",
    "\n",
    "The process involves the following steps:\n",
    "1. Normalizing the user data to ensure fair contribution from all features.\n",
    "2. Training the K-Means model with the standardized user data to find clusters.\n",
    "3. Analyzing the clusters to understand the common characteristics of user groups."
   ]
  },
  {
   "cell_type": "code",
   "execution_count": 90,
   "id": "6200338e",
   "metadata": {},
   "outputs": [
    {
     "name": "stderr",
     "output_type": "stream",
     "text": [
      "C:\\Users\\huang\\anaconda3\\Lib\\site-packages\\sklearn\\cluster\\_kmeans.py:1412: FutureWarning: The default value of `n_init` will change from 10 to 'auto' in 1.4. Set the value of `n_init` explicitly to suppress the warning\n",
      "  super()._check_params_vs_input(X, default_n_init=10)\n"
     ]
    }
   ],
   "source": [
    "# Create a user-game interaction matrix\n",
    "interaction_matrix = users_df.pivot_table(index='User_ID', columns='cleaned_game_title', values='Hours', aggfunc='sum').fillna(0)\n",
    "\n",
    "# Standardize the interaction matrix\n",
    "scaler = StandardScaler()\n",
    "scaled_matrix = scaler.fit_transform(interaction_matrix)\n",
    "\n",
    "# Perform clustering using KMeans\n",
    "n_clusters = 10\n",
    "kmeans = KMeans(n_clusters=n_clusters, random_state=42)\n",
    "cluster_labels = kmeans.fit_predict(scaled_matrix)\n",
    "\n",
    "# Add cluster labels to user data\n",
    "interaction_matrix['cluster_label'] = cluster_labels\n",
    "\n",
    "# Create a user-game hours matrix\n",
    "user_game_hours = users_df.groupby(['User_ID', 'cleaned_game_title'])['Hours'].sum().unstack(fill_value=0)"
   ]
  },
  {
   "cell_type": "code",
   "execution_count": 91,
   "id": "4c272e48",
   "metadata": {},
   "outputs": [],
   "source": [
    "def games_liked_by_cluster_function(cluster_users):\n",
    "    # Filter out the user_game_hours dataframe for users in the given cluster\n",
    "    cluster_game_hours = user_game_hours.loc[cluster_users]\n",
    "    \n",
    "    # Sum the hours for each game across all users in the cluster\n",
    "    cluster_game_sum = cluster_game_hours.sum().sort_values(ascending=False)\n",
    "    \n",
    "    return cluster_game_sum"
   ]
  },
  {
   "cell_type": "markdown",
   "id": "9fda02fe",
   "metadata": {},
   "source": [
    "## User Representation through Game Features\n",
    "Creating a representation of each user's preferences is a key component in making personalized game recommendations. The system must understand which games a user likes and how they interact with different game genres and styles. This is achieved by transforming the raw game data into feature vectors and then aggregating them into a user profile.\n",
    "\n",
    "The function `compute_user_representation` constructs a user's profile based on their gameplay history. It follows these steps:\n",
    "\n",
    "1. For a given user, the function retrieves all the games they have interacted with from `users_df`.\n",
    "2. It initializes a vector to represent the user, starting with a zero vector with the same shape as the game feature vectors.\n",
    "3. For each game the user has played, the function looks up the game's feature vector in `game_features_dict` and weighs it by the number of hours the user has spent on that game.\n",
    "4. The weighted feature vectors are summed to create a composite representation of the user's gaming preferences.\n",
    "5. This sum is then normalized by the number of games the user has interacted with to produce the final user representation vector.\n"
   ]
  },
  {
   "cell_type": "code",
   "execution_count": 92,
   "id": "9982dbd5",
   "metadata": {},
   "outputs": [],
   "source": [
    "# Use feature_transformer to get game feature vectors\n",
    "feature_transformer.fit(games_df)\n",
    "game_features = feature_transformer.transform(games_df)\n",
    "\n",
    "# dict for game game and game features\n",
    "game_features_dict = {game: features for game, features in zip(games_df['cleaned_title'], game_features)}\n",
    "\n",
    "# compute user representation\n",
    "def compute_user_representation(user_id, users_df, game_features_dict):\n",
    "    user_games = users_df[users_df['User_ID'] == user_id]\n",
    "    representation = np.zeros(next(iter(game_features_dict.values())).shape)\n",
    "    for _, row in user_games.iterrows():\n",
    "        game_title = row['cleaned_game_title']\n",
    "        hours = row['Hours']\n",
    "        representation += game_features_dict[game_title] * hours\n",
    "    return representation / len(user_games)"
   ]
  },
  {
   "cell_type": "markdown",
   "id": "dda492d1",
   "metadata": {},
   "source": [
    "## Training Recommendation Model\n",
    "\n",
    "Our recommendation system employs a hybrid approach that combines collaborative filtering with content-based filtering. This approach leverages both the similarities between users' preferences (collaborative) and the features of the games themselves (content-based). Here's how the `hybrid_recommendation` function operates to generate game recommendations for a given user:\n",
    "\n",
    "### Combining Collaborative and Content-Based Methods\n",
    "\n",
    "1. **Cosine Similarity for Content-Based Filtering**:\n",
    "   - The function first invokes `compute_user_representation` to get the feature vector representation of the user's preferences based on their gameplay history.\n",
    "   - It then calculates the cosine similarity between this user representation and the feature vectors of all games in the dataset.\n",
    "   - This similarity score serves as a basis for content-based recommendations, suggesting games with features similar to those the user has shown a preference for.\n",
    "\n",
    "2. **Cluster-Based Recommendations for Collaborative Filtering**:\n",
    "   - The user is assigned to a cluster based on their past interactions. This cluster represents a group of users with similar gaming tastes.\n",
    "   - We find other users in the same cluster and retrieve games that are popular within this user group, representing the collaborative aspect.\n",
    "   - A function `games_liked_by_cluster_function` is used to aggregate the preferred games of users in the same cluster.\n",
    "\n",
    "### Generating Hybrid Recommendations\n",
    "\n",
    "- The function sorts the games based on their similarity scores and selects the top `N` games as content-based recommendations.\n",
    "- It also retrieves the top `N` games liked by the user's cluster for collaborative recommendations.\n",
    "- These two lists are then combined to form a single list of recommended games, ensuring any duplicate entries are removed.\n"
   ]
  },
  {
   "cell_type": "code",
   "execution_count": 93,
   "id": "82e9d306",
   "metadata": {},
   "outputs": [],
   "source": [
    "def hybrid_recommendation(user_id, game_features, top_n=5):\n",
    "    # 1. Calculate cosine similarity between the user's representation and game feature vectors\n",
    "    user_representation = compute_user_representation(user_id, users_df, game_features_dict)\n",
    "    similarities = cosine_similarity([user_representation], game_features)\n",
    "    \n",
    "    # 2. Recommend games based on what other users in the same cluster as the target user like\n",
    "    user_cluster = interaction_matrix.loc[user_id, 'cluster_label']\n",
    "    users_in_same_cluster = interaction_matrix[interaction_matrix['cluster_label'] == user_cluster].index\n",
    "    games_liked_by_cluster = games_liked_by_cluster_function(users_in_same_cluster)\n",
    "    \n",
    "    # Combine the results from both strategies\n",
    "    recommended_indices_similarity = similarities[0].argsort()[-top_n:][::-1]\n",
    "    recommended_games_similarity = games_df.iloc[recommended_indices_similarity]['cleaned_title'].tolist()\n",
    "    \n",
    "    recommended_games_cluster = games_liked_by_cluster.head(top_n).index.tolist()\n",
    "    \n",
    "    # Merge the two recommendation lists and remove duplicate games\n",
    "    hybrid_recommendations = list(dict.fromkeys(recommended_games_similarity + recommended_games_cluster))\n",
    "    \n",
    "    return hybrid_recommendations[:top_n]"
   ]
  },
  {
   "cell_type": "code",
   "execution_count": 94,
   "id": "aa1fa956",
   "metadata": {},
   "outputs": [
    {
     "data": {
      "text/plain": [
       "['clicker heroes',\n",
       " 'garry s mod',\n",
       " 'dirty bomb',\n",
       " 'a story about my uncle',\n",
       " 'half life 2']"
      ]
     },
     "execution_count": 94,
     "metadata": {},
     "output_type": "execute_result"
    }
   ],
   "source": [
    "# Example usage for testing\n",
    "user_id_example = users_df['User_ID'].iloc[0]\n",
    "hybrid_recommendation(user_id_example, game_features)"
   ]
  },
  {
   "cell_type": "markdown",
   "id": "b6869ad1",
   "metadata": {},
   "source": [
    "# Model evaluation"
   ]
  },
  {
   "cell_type": "markdown",
   "id": "f58f21d7",
   "metadata": {},
   "source": [
    "Evaluating the performance of the recommendation system is crucial to understand its effectiveness and to identify areas for improvement. We focus on a metric known as the 'hit rate', which measures the accuracy of our recommendations in terms of user satisfaction.\n",
    "\n",
    "## Hit Rate Calculation\n",
    "\n",
    "The hit rate is calculated as follows:\n",
    "\n",
    "- For each user, we generate a set of recommended games based on the user's profile and interaction with games.\n",
    "- We then compare these recommended games against the games that the user has spent a significant amount of time on (above a certain threshold of hours), which we consider as games they \"truly like\".\n",
    "- If there is an overlap between the recommended games and the liked games, it is considered a 'hit'.\n",
    "## Defining a Successful Recommendation\n",
    "\n",
    "In our system, a successful recommendation for a user is defined by whether any of the games suggested by our model is among the games that the user has played for more than a set threshold of hours (e.g., 5 hours). This threshold is used as a proxy for the user's preference and satisfaction with the game.\n"
   ]
  },
  {
   "cell_type": "code",
   "execution_count": 95,
   "id": "b73f99d6",
   "metadata": {},
   "outputs": [],
   "source": [
    "def recommendation(user_id, game_features, users_df, threshold_hours=5, top_n=5):\n",
    "\n",
    "    recommended_games = hybrid_recommendation(user_id, game_features, top_n=top_n)\n",
    "    \n",
    "    # Get games that user truly likes based on threshold_hours\n",
    "    liked_games = users_df[(users_df['User_ID'] == user_id) & (users_df['Hours'] > threshold_hours)]['cleaned_game_title'].tolist()\n",
    "    \n",
    "    # Check for hits\n",
    "    hits = set(recommended_games).intersection(set(liked_games))\n",
    "    \n",
    "    return len(hits) > 0"
   ]
  },
  {
   "cell_type": "markdown",
   "id": "e01cc7c9",
   "metadata": {},
   "source": [
    "*As our computational power is limited, I only test the hit_rate for a sample size of 1000, you are free to use a bigger sample size to see the result*"
   ]
  },
  {
   "cell_type": "code",
   "execution_count": 97,
   "id": "0f6a26ea",
   "metadata": {},
   "outputs": [
    {
     "name": "stdout",
     "output_type": "stream",
     "text": [
      "The hit rate for a sample size of 1000 is: 41.8%\n"
     ]
    }
   ],
   "source": [
    "# Set the random seed to 42 for reproducibility\n",
    "np.random.seed(42)\n",
    "\n",
    "# Calculate hit rate for testing users\n",
    "test_users_size = 1000\n",
    "random_user_ids = np.random.choice(users_df['User_ID'].unique(), size=test_users_size, replace=False)\n",
    "\n",
    "hits = sum(recommendation(user_id, game_features, users_df) for user_id in random_user_ids)\n",
    "\n",
    "hit_rate = hits / test_users_size\n",
    "print('The hit rate for a sample size of {} is: {}%'.format(test_users_size, hit_rate*100))"
   ]
  },
  {
   "cell_type": "markdown",
   "id": "1ab79df8",
   "metadata": {},
   "source": [
    "The hit rate for our recommendation system, calculated over a random sample of users are shown above. This metric indicates that for roughly 41.8% of the users in our sample, at least one game recommended by our system was a game that they had spent a significant amount of time playing (beyond the threshold of 5 hours, which we've used as a proxy for user preference).\n",
    "\n",
    "### Interpretation of the Hit Rate\n",
    "\n",
    "- **Positive Aspects**: A hit rate of 41.8% suggests that the hybrid recommendation system is capable of identifying at least one game that aligns with users' preferences nearly half of the time. This is a strong starting point, particularly if we consider the vast number of games available and the complexity of individual user preferences.\n",
    "\n",
    "- **User behavior**: For Steam users often have a wide range of game collections, it is hard to predict the exact game they had. To further evaluate, we can try predict game that fit in the genre that the users are in favor of.  \n",
    "\n",
    "- **Room for Improvement**: While the hit rate is relatively good, it also indicates that there is room for improvement. In more than half the cases, our recommendations did not align with the games that users spent the most time on. This could be due to various factors such as the diversity of users' tastes, the granularity of the user clusters, the balance between collaborative and content-based recommendations, or limitations in the features used to represent games and users.\n",
    "\n",
    "### Analyzing the Results\n",
    "\n",
    "- **User Cluster Granularity**: We may need to re-examine the granularity of user clusters. Too many clusters can lead to overfitting, where the system fails to generalize from the users' past behavior. Conversely, too few clusters might not capture the nuances of different users' preferences.\n",
    "\n",
    "- **Feature Representation**: The features used to represent games and users play a crucial role in the recommendation process. It may be beneficial to revisit the feature engineering step to ensure that we are capturing the most relevant aspects of games that influence user preferences.\n",
    "\n",
    "- **Threshold for Liked Games**: The threshold of 5 hours is an arbitrary cutoff for user preference. This threshold could be fine-tuned, or a different method of gauging user satisfaction could be explored, such as incorporating user ratings or the frequency of interactions with a game.\n",
    "\n",
    "- **Balancing Recommendations**: The balance between collaborative and content-based recommendations is also critical. If one type is dominating the recommendations, it may not provide a well-rounded set of suggestions to the user. We may need to adjust how we weigh these two components in the final recommendation list.\n",
    "\n",
    "## Moving Forward\n",
    "\n",
    "To improve the hit rate, we can undertake several actions:\n",
    "\n",
    "- **Hyperparameter Tuning**: Experiment with different numbers of clusters and other hyperparameters in the K-Means algorithm to find a more optimal user grouping.\n",
    "- **Enhanced Feature Engineering**: Consider including additional game features or user interaction data that could improve the personalization of recommendations.\n",
    "- **Cross-Validation**: Implement a cross-validation framework to ensure that the hit rate is consistent across different subsets of users.\n",
    "- **Alternative Metrics**: Besides the hit rate, we can explore other metrics like precision, recall, F1-score, or even user surveys to get a more comprehensive understanding of the recommendation system's performance.\n",
    "\n",
    "The current hit rate provides a benchmark for the effectiveness of the recommendation system. It is a quantifiable outcome that we can aim to improve upon through iterative development and testing.\n"
   ]
  },
  {
   "cell_type": "code",
   "execution_count": null,
   "id": "90f8012e",
   "metadata": {},
   "outputs": [],
   "source": []
  }
 ],
 "metadata": {
  "kernelspec": {
   "display_name": "Python 3 (ipykernel)",
   "language": "python",
   "name": "python3"
  },
  "language_info": {
   "codemirror_mode": {
    "name": "ipython",
    "version": 3
   },
   "file_extension": ".py",
   "mimetype": "text/x-python",
   "name": "python",
   "nbconvert_exporter": "python",
   "pygments_lexer": "ipython3",
   "version": "3.11.4"
  },
  "toc": {
   "base_numbering": 1,
   "nav_menu": {},
   "number_sections": true,
   "sideBar": true,
   "skip_h1_title": false,
   "title_cell": "Table of Contents",
   "title_sidebar": "Contents",
   "toc_cell": false,
   "toc_position": {},
   "toc_section_display": true,
   "toc_window_display": false
  }
 },
 "nbformat": 4,
 "nbformat_minor": 5
}
