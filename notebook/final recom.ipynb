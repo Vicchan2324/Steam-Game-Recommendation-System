{
 "cells": [
  {
   "cell_type": "code",
   "execution_count": 65,
   "id": "748e0ef5",
   "metadata": {},
   "outputs": [],
   "source": [
    "import numpy as np\n",
    "import pandas as pd\n",
    "from sklearn.pipeline import Pipeline, FeatureUnion\n",
    "from sklearn.base import BaseEstimator, TransformerMixin\n",
    "from sklearn.feature_extraction.text import TfidfVectorizer\n",
    "from datetime import datetime\n",
    "\n",
    "class CategoriesGenresTagsTransformer(BaseEstimator, TransformerMixin):\n",
    "    def __init__(self):\n",
    "        self.vectorizer = TfidfVectorizer(stop_words='english')\n",
    "        \n",
    "    def fit(self, X, y=None):\n",
    "        combined_text = X['categories'] + \" \" + X['genres'] + \" \" + X['steamspy_tags']\n",
    "        self.vectorizer.fit(combined_text)\n",
    "        return self\n",
    "    \n",
    "    def transform(self, X):\n",
    "        combined_text = X['categories'] + \" \" + X['genres'] + \" \" + X['steamspy_tags']\n",
    "        return self.vectorizer.transform(combined_text).toarray()\n",
    "\n",
    "class RatingsTransformer(BaseEstimator, TransformerMixin):\n",
    "    def fit(self, X, y=None):\n",
    "        return self\n",
    "    \n",
    "    def transform(self, X):\n",
    "        total_ratings = X['positive_ratings'] + X['negative_ratings']\n",
    "        rating_ratio = X['positive_ratings'] / total_ratings\n",
    "        return rating_ratio.values.reshape(-1, 1)\n",
    "\n",
    "class PlaytimeTransformer(BaseEstimator, TransformerMixin):\n",
    "    def fit(self, X, y=None):\n",
    "        self.average_playtime_max = X['average_playtime'].max()\n",
    "        self.median_playtime_max = X['median_playtime'].max()\n",
    "        return self\n",
    "    \n",
    "    def transform(self, X):\n",
    "        normalized_average_playtime = X['average_playtime'] / self.average_playtime_max\n",
    "        normalized_median_playtime = X['median_playtime'] / self.median_playtime_max\n",
    "        return pd.concat([normalized_average_playtime, normalized_median_playtime], axis=1).values\n",
    "\n",
    "class OwnersTransformer(BaseEstimator, TransformerMixin):\n",
    "    def fit(self, X, y=None):\n",
    "        return self\n",
    "    \n",
    "    def transform(self, X):\n",
    "        owners_processed = X['owners'].str.split('-').apply(lambda x: (int(x[0]) + int(x[1])) / 2)\n",
    "        return owners_processed.values.reshape(-1, 1)\n",
    "\n",
    "class DaysSinceReleaseTransformer(BaseEstimator, TransformerMixin):\n",
    "    def fit(self, X, y=None):\n",
    "        return self\n",
    "    \n",
    "    def transform(self, X):\n",
    "        now = datetime.now()\n",
    "        days_since_release = X['release_date'].apply(lambda x: (now - datetime.strptime(x, '%Y-%m-%d')).days)\n",
    "        return days_since_release.values.reshape(-1, 1)\n",
    "\n",
    "# Combined Feature Transformer\n",
    "feature_transformer = FeatureUnion([\n",
    "    ('categories_genres_tags', CategoriesGenresTagsTransformer()),\n",
    "    ('ratings', RatingsTransformer()),\n",
    "    ('playtime', PlaytimeTransformer()),\n",
    "    ('owners', OwnersTransformer()),\n",
    "    ('days_since_release', DaysSinceReleaseTransformer())\n",
    "])\n"
   ]
  },
  {
   "cell_type": "code",
   "execution_count": 33,
   "id": "0907503c",
   "metadata": {},
   "outputs": [
    {
     "name": "stdout",
     "output_type": "stream",
     "text": [
      "['call of duty 2', 'call of duty united offensive', 'x2 the threat', 'x3 reunion', 'flatout']\n"
     ]
    }
   ],
   "source": [
    "import numpy as np\n",
    "import pandas as pd\n",
    "from sklearn.feature_extraction.text import TfidfVectorizer\n",
    "from sklearn.preprocessing import MultiLabelBinarizer\n",
    "from sklearn.decomposition import PCA\n",
    "from sklearn.pipeline import Pipeline, FeatureUnion\n",
    "from sklearn.neighbors import NearestNeighbors\n",
    "\n",
    "# Load Data\n",
    "games_filtered_df = pd.read_csv(\"../data/games_filtered.csv\")\n",
    "users_df = pd.read_csv(\"../data/users_filtered.csv\")\n",
    "\n",
    "# featureTransformer with pca\n",
    "gameFeatureTransformer_pca = Pipeline([\n",
    "    ('features', feature_transformer),\n",
    "    ('pca', PCA(n_components=100))  # Reducing dimensions to 100\n",
    "])\n",
    "\n",
    "# Fit and transform game data\n",
    "gameFeatureTransformer_pca.fit(games_filtered_df)\n",
    "transformed_games_pca = gameFeatureTransformer_pca.transform(games_filtered_df)\n",
    "\n",
    "# Train NearestNeighbors model\n",
    "K = 10\n",
    "game_model_pca = NearestNeighbors(algorithm=\"brute\", n_neighbors=K+1)\n",
    "game_model_pca.fit(transformed_games_pca)\n",
    "\n",
    "# Recommendation function\n",
    "def recommend_games_pca(model, gamesTaken, k=5):\n",
    "    aggregate_vector = np.zeros((1, 100))\n",
    "    for game in gamesTaken:\n",
    "        game_data = games_filtered_df[games_filtered_df['cleaned_title'] == game]\n",
    "        if not game_data.empty:\n",
    "            game_vector = gameFeatureTransformer_pca.transform(game_data)\n",
    "            aggregate_vector += game_vector\n",
    "\n",
    "    distances, indices = model.kneighbors(aggregate_vector, n_neighbors=k+1)\n",
    "    recommendations = [games_filtered_df.iloc[index]['cleaned_title'] for index in indices[0]][1:]\n",
    "    return recommendations\n",
    "\n",
    "# Example usage:\n",
    "# sample_games = [\"Counter-Strike\", \"Team Fortress 2\"]\n",
    "sample_games = [\"call of duty\"]\n",
    "recommended_games = recommend_games_pca(game_model_pca, sample_games, 5)\n",
    "print(recommended_games)\n"
   ]
  },
  {
   "cell_type": "code",
   "execution_count": 66,
   "id": "d5ceaa02",
   "metadata": {},
   "outputs": [
    {
     "name": "stdout",
     "output_type": "stream",
     "text": [
      "['left 4 dead 2', 'portal 2', 'ark survival evolved', 'the elder scrolls v skyrim', 'tom clancys rainbow six siege']\n"
     ]
    }
   ],
   "source": [
    "from sklearn.metrics.pairwise import cosine_similarity\n",
    "\n",
    "# 加载数据\n",
    "games_df = pd.read_csv(\"../data/games_filtered.csv\")\n",
    "users_df = pd.read_csv(\"../data/users_filtered.csv\")\n",
    "\n",
    "# 处理数据\n",
    "users_df['Hours'] = np.where(users_df['Action'] == 'purchase', 0, users_df['Hours'])\n",
    "\n",
    "# 使用feature_transformer计算每款游戏的特征向量\n",
    "\n",
    "feature_transformer.fit(games_df)\n",
    "game_features = feature_transformer.transform(games_df)\n",
    "\n",
    "# 将游戏标题与其对应的特征向量一一对应起来，形成一个字典\n",
    "game_features_dict = {game: features for game, features in zip(games_df['cleaned_title'], game_features)}\n",
    "\n",
    "# 基于用户玩的游戏和游玩时长计算用户表示\n",
    "def compute_user_representation(user_id, users_df, game_features_dict):\n",
    "    user_games = users_df[users_df['User_ID'] == user_id]\n",
    "    representation = np.zeros(next(iter(game_features_dict.values())).shape)\n",
    "    for _, row in user_games.iterrows():\n",
    "        game_title = row['cleaned_game_title']\n",
    "        hours = row['Hours']\n",
    "        representation += game_features_dict[game_title] * hours\n",
    "    return representation / len(user_games)\n",
    "\n",
    "# 找到与目标用户最接近的游戏\n",
    "def recommend_games_based_on_user_representation(user_id, game_features, top_n=5):\n",
    "    user_representation = compute_user_representation(user_id, users_df, game_features_dict)\n",
    "    similarities = cosine_similarity([user_representation], game_features)\n",
    "    recommended_indices = similarities[0].argsort()[-top_n:][::-1]\n",
    "    recommended_games = games_df.iloc[recommended_indices]['cleaned_title'].tolist()\n",
    "    return recommended_games\n",
    "\n",
    "# 示例\n",
    "user_id_example = users_df['User_ID'].iloc[0]\n",
    "print(recommend_games_based_on_user_representation(user_id_example, game_features))"
   ]
  },
  {
   "cell_type": "code",
   "execution_count": 50,
   "id": "2e528554",
   "metadata": {},
   "outputs": [
    {
     "name": "stderr",
     "output_type": "stream",
     "text": [
      "C:\\Users\\huang\\anaconda3\\Lib\\site-packages\\sklearn\\cluster\\_kmeans.py:1412: FutureWarning: The default value of `n_init` will change from 10 to 'auto' in 1.4. Set the value of `n_init` explicitly to suppress the warning\n",
      "  super()._check_params_vs_input(X, default_n_init=10)\n"
     ]
    }
   ],
   "source": [
    "from sklearn.cluster import KMeans\n",
    "from sklearn.preprocessing import StandardScaler\n",
    "# 创建用户-游戏交互矩阵\n",
    "interaction_matrix = users_df.pivot_table(index='User_ID', columns='cleaned_game_title', values='Hours', aggfunc='sum').fillna(0)\n",
    "\n",
    "# 标准化交互矩阵\n",
    "scaler = StandardScaler()\n",
    "scaled_matrix = scaler.fit_transform(interaction_matrix)\n",
    "\n",
    "# 使用KMeans进行聚类\n",
    "n_clusters = 10\n",
    "kmeans = KMeans(n_clusters=n_clusters, random_state=42)\n",
    "cluster_labels = kmeans.fit_predict(scaled_matrix)\n",
    "\n",
    "# 将聚类标签添加到用户数据中\n",
    "interaction_matrix['cluster_label'] = cluster_labels\n",
    "\n",
    "# 修改推荐函数来考虑聚类标签\n",
    "def recommend_games_based_on_user_representation(user_id, game_features, top_n=5):\n",
    "    user_representation = compute_user_representation(user_id, users_df, game_features_dict)\n",
    "    \n",
    "    # 获取用户的聚类标签\n",
    "    user_cluster = interaction_matrix.loc[user_id, 'cluster_label']\n",
    "    \n",
    "    # 在此处考虑聚类标签来提高推荐的精确性...\n",
    "    # 例如，您可以优先推荐与用户同一聚类中的其他用户喜欢的游戏\n",
    "    \n",
    "    similarities = cosine_similarity([user_representation], game_features)\n",
    "    recommended_indices = similarities[0].argsort()[-top_n:][::-1]\n",
    "    recommended_games = games_df.iloc[recommended_indices]['cleaned_title'].tolist()\n",
    "    return recommended_games\n"
   ]
  },
  {
   "cell_type": "code",
   "execution_count": 67,
   "id": "5e6e0201",
   "metadata": {},
   "outputs": [
    {
     "name": "stdout",
     "output_type": "stream",
     "text": [
      "['left 4 dead 2', 'portal 2', 'ark survival evolved', 'the elder scrolls v skyrim', 'tom clancys rainbow six siege']\n"
     ]
    }
   ],
   "source": [
    "user_id_example = users_df['User_ID'].iloc[0]\n",
    "print(recommend_games_based_on_user_representation(user_id_example, game_features))"
   ]
  },
  {
   "cell_type": "code",
   "execution_count": 78,
   "id": "2dfd8632",
   "metadata": {},
   "outputs": [
    {
     "data": {
      "text/plain": [
       "0.45"
      ]
     },
     "execution_count": 78,
     "metadata": {},
     "output_type": "execute_result"
    }
   ],
   "source": [
    "def hit_rate_recommendation(user_id, game_features, users_df, threshold_hours=5, top_n=5):\n",
    "\n",
    "    recommended_games = recommend_games_based_on_user_representation(user_id, game_features, top_n=top_n)\n",
    "    \n",
    "    # Get games that user truly likes based on threshold_hours\n",
    "    liked_games = users_df[(users_df['User_ID'] == user_id) & (users_df['Hours'] > threshold_hours)]['cleaned_game_title'].tolist()\n",
    "    \n",
    "    # Check for hits\n",
    "    hits = set(recommended_games).intersection(set(liked_games))\n",
    "    \n",
    "    return len(hits) > 0\n",
    "\n",
    "# Calculate hit rate for all users\n",
    "total_users = users_df['User_ID'].nunique()\n",
    "hits = sum(hit_rate_recommendation(user, game_features, users_df) for user in users_df['User_ID'].unique())\n",
    "\n",
    "hit_rate = hits / total_users\n",
    "hit_rate\n"
   ]
  },
  {
   "cell_type": "code",
   "execution_count": 90,
   "id": "c5e18517",
   "metadata": {},
   "outputs": [
    {
     "data": {
      "text/plain": [
       "['left 4 dead 2',\n",
       " 'portal 2',\n",
       " 'ark survival evolved',\n",
       " 'the elder scrolls v skyrim',\n",
       " 'tom clancys rainbow six siege']"
      ]
     },
     "execution_count": 90,
     "metadata": {},
     "output_type": "execute_result"
    }
   ],
   "source": [
    "def combined_recommendation(user_id, game_features, top_n=5):\n",
    "    # 1. 使用游戏的特征向量计算与目标用户表示的余弦相似性\n",
    "    user_representation = compute_user_representation(user_id, users_df, game_features_dict)\n",
    "    similarities = cosine_similarity([user_representation], game_features)\n",
    "    \n",
    "    # 2. 基于与目标用户在同一聚类中的其他用户喜欢的游戏进行推荐\n",
    "    user_cluster = interaction_matrix.loc[user_id, 'cluster_label']\n",
    "    users_in_same_cluster = interaction_matrix[interaction_matrix['cluster_label'] == user_cluster].index\n",
    "#     games_liked_by_cluster = (\n",
    "#         users_df[users_df['User_ID'].isin(users_in_same_cluster)]\n",
    "#         .groupby('cleaned_game_title')['Hours']\n",
    "#         .sum()\n",
    "#         .sort_values(ascending=False)\n",
    "#     )\n",
    "    games_liked_by_cluster = games_liked_by_cluster_function(users_in_same_cluster)\n",
    "    \n",
    "    # 综合这两种策略的结果\n",
    "    recommended_indices_similarity = similarities[0].argsort()[-top_n:][::-1]\n",
    "    recommended_games_similarity = games_df.iloc[recommended_indices_similarity]['cleaned_title'].tolist()\n",
    "    \n",
    "    recommended_games_cluster = games_liked_by_cluster.head(top_n).index.tolist()\n",
    "    \n",
    "    # 将两个推荐列表结合起来，并删除重复的游戏\n",
    "    combined_recommendations = list(dict.fromkeys(recommended_games_similarity + recommended_games_cluster))\n",
    "    \n",
    "    return combined_recommendations[:top_n]\n",
    "\n",
    "# 使用示例进行测试\n",
    "user_id_example = users_df['User_ID'].iloc[0]\n",
    "combined_recommendation(user_id_example, game_features)\n"
   ]
  },
  {
   "cell_type": "code",
   "execution_count": 93,
   "id": "4494e1e1",
   "metadata": {},
   "outputs": [
    {
     "data": {
      "text/plain": [
       "0.5"
      ]
     },
     "execution_count": 93,
     "metadata": {},
     "output_type": "execute_result"
    }
   ],
   "source": [
    "def recommendation(user_id, game_features, users_df, threshold_hours=5, top_n=5):\n",
    "\n",
    "    recommended_games = combined_recommendation(user_id, game_features, top_n=top_n)\n",
    "    \n",
    "    # Get games that user truly likes based on threshold_hours\n",
    "    liked_games = users_df[(users_df['User_ID'] == user_id) & (users_df['Hours'] > threshold_hours)]['cleaned_game_title'].tolist()\n",
    "    \n",
    "    # Check for hits\n",
    "    hits = set(recommended_games).intersection(set(liked_games))\n",
    "    \n",
    "    return len(hits) > 0\n",
    "\n",
    "num = 100\n",
    "# Calculate hit rate for 100 users\n",
    "total_users = users_df['User_ID'].nunique()\n",
    "hits = sum(recommendation(user, game_features, users_df) for user in users_df['User_ID'].unique()[:num])\n",
    "\n",
    "\n",
    "\n",
    "hit_rate = hits / num\n",
    "hit_rate"
   ]
  },
  {
   "cell_type": "code",
   "execution_count": 89,
   "id": "39f3103e",
   "metadata": {},
   "outputs": [],
   "source": [
    "def games_liked_by_cluster_function(cluster_users):\n",
    "    # Filter out the user_game_hours dataframe for users in the given cluster\n",
    "    cluster_game_hours = user_game_hours.loc[cluster_users]\n",
    "    \n",
    "    # Sum the hours for each game across all users in the cluster\n",
    "    cluster_game_sum = cluster_game_hours.sum().sort_values(ascending=False)\n",
    "    \n",
    "    return cluster_game_sum"
   ]
  },
  {
   "cell_type": "code",
   "execution_count": 85,
   "id": "59a320a3",
   "metadata": {},
   "outputs": [],
   "source": [
    "user_game_hours = users_df.groupby(['User_ID', 'cleaned_game_title'])['Hours'].sum().unstack(fill_value=0)"
   ]
  },
  {
   "cell_type": "code",
   "execution_count": null,
   "id": "c3d05c8c",
   "metadata": {},
   "outputs": [],
   "source": []
  }
 ],
 "metadata": {
  "kernelspec": {
   "display_name": "Python 3 (ipykernel)",
   "language": "python",
   "name": "python3"
  },
  "language_info": {
   "codemirror_mode": {
    "name": "ipython",
    "version": 3
   },
   "file_extension": ".py",
   "mimetype": "text/x-python",
   "name": "python",
   "nbconvert_exporter": "python",
   "pygments_lexer": "ipython3",
   "version": "3.11.4"
  },
  "toc": {
   "base_numbering": 1,
   "nav_menu": {},
   "number_sections": true,
   "sideBar": true,
   "skip_h1_title": false,
   "title_cell": "Table of Contents",
   "title_sidebar": "Contents",
   "toc_cell": false,
   "toc_position": {},
   "toc_section_display": true,
   "toc_window_display": false
  }
 },
 "nbformat": 4,
 "nbformat_minor": 5
}
